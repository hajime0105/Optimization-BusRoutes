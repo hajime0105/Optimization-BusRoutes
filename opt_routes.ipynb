{
 "cells": [
  {
   "cell_type": "markdown",
   "metadata": {},
   "source": [
    "# 高大連携プロジェクト\n",
    "## 「カシマスタジアム行きバスの経由地最適化」"
   ]
  },
  {
   "cell_type": "code",
   "execution_count": 1,
   "metadata": {},
   "outputs": [],
   "source": [
    "# -*- coding: utf-8 -*-\n",
    "import numpy as np\n",
    "import pandas as pd \n",
    "import pulp\n",
    "import csv"
   ]
  },
  {
   "cell_type": "code",
   "execution_count": 2,
   "metadata": {},
   "outputs": [
    {
     "name": "stderr",
     "output_type": "stream",
     "text": [
      "/Users/kosakuhajime/.pyenv/versions/3.6.5/lib/python3.6/site-packages/ipykernel_launcher.py:13: FutureWarning: Method .as_matrix will be removed in a future version. Use .values instead.\n",
      "  del sys.path[0]\n"
     ]
    }
   ],
   "source": [
    "#定数\n",
    "I = list(range(1, 14))   # 経由地候補\n",
    "S = 0    #　スタート（場所は任意）\n",
    "G = 14    # ゴール(カシマスタジアム)\n",
    "U = 3    # バスの台数\n",
    "M = 300\n",
    "#入力データ\n",
    "distance = pd.read_csv('distance.csv', header=None)    # 経由地候補間の距離行列\n",
    "demand = pd.read_csv('demand.csv', header=None)    # 経由地候補の需要\n",
    "\n",
    "dem = [0,9, 2, 9, 11, 8, 12, 25, 5, 9, 5, 5, 5, 4, 0]\n",
    "\n",
    "dis = distance.as_matrix()"
   ]
  },
  {
   "cell_type": "code",
   "execution_count": 3,
   "metadata": {},
   "outputs": [],
   "source": [
    "# 変数\n",
    "## x : 地点i→地点jを通るか通らないか（０-１変数）\n",
    "x = {(i, j):pulp.LpVariable('x({},{})'.format(i, j),0,1 ,cat='Integer') for i in list([S])+I for j in I+list([G])}\n",
    "## t : 経由地候補iを通過する時刻\n",
    "t = {(i):pulp.LpVariable('t({})'.format(i), lowBound=0, cat='Integer') for i in I}\n",
    "## y : 地点iから出発する人数\n",
    "y = {(i):pulp.LpVariable('y({})'.format(i), lowBound=0, cat='Integer') for i in list([S])+I}\n",
    "## z : 地点iからゴールに行く人数\n",
    "z = {(i):pulp.LpVariable('z({})'.format(i), lowBound=0, cat='Integer') for i in list([S])+I}"
   ]
  },
  {
   "cell_type": "code",
   "execution_count": 4,
   "metadata": {},
   "outputs": [],
   "source": [
    "# 問題宣言\n",
    "prob = pulp.LpProblem(\"kashima_bus_routes\", sense=pulp.LpMaximize)\n",
    "# 目的関数\n",
    "prob += pulp.lpSum(z[i] for i in I)"
   ]
  },
  {
   "cell_type": "code",
   "execution_count": 5,
   "metadata": {},
   "outputs": [],
   "source": [
    "# 制約式\n",
    "\n",
    "## 各経由地候補から出発・到着するバスの台数は一定\n",
    "prob += pulp.lpSum(x[S,i] for i in I+list([G])) == U\n",
    "prob += pulp.lpSum(x[i,G] for i in list([S])+I) == U\n",
    "\n",
    "## \n",
    "for j in I:\n",
    "    prob += pulp.lpSum(x[i,j] for i in list([S])+I) ==  pulp.lpSum(x[j, k] for k in I+list([G]))\n",
    "    prob += pulp.lpSum(x[i,j] for i in list([S])+I) <= 1\n",
    "\n",
    "## \n",
    "for i in I:\n",
    "    prob += x[i,i] == 0\n",
    "\n",
    "## スタートとゴールはつながらない\n",
    "prob += x[S,G] <= 0\n",
    "prob += x[S,G] >= 0\n",
    "\n",
    "## スタート時の乗客は0人\n",
    "prob += y[S] == 0\n",
    "\n",
    "##\n",
    "for i in list([S])+I:\n",
    "    for j in I:\n",
    "        prob += -M*(1-x[i, j])+y[j] <= y[i]+dem[j]\n",
    "\n",
    "##\n",
    "for i in I:\n",
    "    prob += -M*(1-x[i, G]) + z[i] <= y[i]\n",
    "\n",
    "## 乗車人数は25人以上，45人以下\n",
    "for i in list([S])+I:\n",
    "    prob += z[i] <= 45*x[i,G] \n",
    "    prob += 25*x[i,G] <=  z[i]\n",
    "\n",
    "## \n",
    "for i in I:\n",
    "    for j in I:\n",
    "        prob += -200*(1-x[i,j])+dis[i, j] <= t[i]\n",
    "\n",
    "## \n",
    "for i in I:\n",
    "    prob += -200*(1-x[i, G])+dis[i, G] <= t[i]\n",
    "\n",
    "## 自家用車で直接行く場合の1.5倍以内に収める\n",
    "for i in I:\n",
    "    prob += t[i] <= 1.5*dis[i, G]"
   ]
  },
  {
   "cell_type": "code",
   "execution_count": null,
   "metadata": {},
   "outputs": [],
   "source": [
    "# ソルバー計算\n",
    "prob.solve()"
   ]
  },
  {
   "cell_type": "code",
   "execution_count": null,
   "metadata": {},
   "outputs": [],
   "source": [
    "# 結果の出力\n",
    "## 所要時間\n",
    "print(\"　i 　　j : 地点iから地点jへの所要時間\")\n",
    "for i in list([S])+I: \n",
    "    for j in I+list([G]):\n",
    "        if pulp.value(x[i,G]) == 1:\n",
    "            print(i,\"\", j, \": minute[\", dis[i, j], \"]\" )"
   ]
  },
  {
   "cell_type": "code",
   "execution_count": null,
   "metadata": {},
   "outputs": [],
   "source": [
    "## バスキャリー            \n",
    "print(\"bus carry -/-\")\n",
    "for i in I:\n",
    "    if x[i, G] == 1:\n",
    "        print(i, \"\", pulp.value(z[i]))"
   ]
  },
  {
   "cell_type": "code",
   "execution_count": null,
   "metadata": {},
   "outputs": [],
   "source": [
    "for i in list([S])+I:\n",
    "    for j in list([S])+I:\n",
    "        print(dis[i, j], \" \")\n",
    "    print(\"\")"
   ]
  },
  {
   "cell_type": "code",
   "execution_count": null,
   "metadata": {},
   "outputs": [],
   "source": []
  }
 ],
 "metadata": {
  "kernelspec": {
   "display_name": "Python 3",
   "language": "python",
   "name": "python3"
  },
  "language_info": {
   "codemirror_mode": {
    "name": "ipython",
    "version": 3
   },
   "file_extension": ".py",
   "mimetype": "text/x-python",
   "name": "python",
   "nbconvert_exporter": "python",
   "pygments_lexer": "ipython3",
   "version": "3.6.5"
  }
 },
 "nbformat": 4,
 "nbformat_minor": 2
}
